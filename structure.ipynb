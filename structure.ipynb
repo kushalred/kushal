{
    "cells": [
        {
            "metadata": {},
            "cell_type": "code",
            "source": "\nimport types\nimport pandas as pd\nfrom botocore.client import Config\nimport ibm_boto3\n\ndef __iter__(self): return 0\n\n# @hidden_cell\n# The following code accesses a file in your IBM Cloud Object Storage. It includes your credentials.\n# You might want to remove those credentials before you share the notebook.\nclient_2c03c86718a14172be72f4b49bdc6575 = ibm_boto3.client(service_name='s3',\n    ibm_api_key_id='36DkZMq17QsN1gK_XmbSdL9SCJgt1ovAjnemTp80gCq3',\n    ibm_auth_endpoint=\"https://iam.cloud.ibm.com/oidc/token\",\n    config=Config(signature_version='oauth'),\n    endpoint_url='https://s3-api.us-geo.objectstorage.service.networklayer.com')\n\nbody = client_2c03c86718a14172be72f4b49bdc6575.get_object(Bucket='surveyanalysis-donotdelete-pr-8av9vykjkhhkfs',Key='siteldata.csv')['Body']\n# add missing __iter__ method, so pandas accepts body as file-like object\nif not hasattr(body, \"__iter__\"): body.__iter__ = types.MethodType( __iter__, body )\n\ndf_data_1 = pd.read_csv(body)\ndf_data_1.head()\n",
            "execution_count": 2,
            "outputs": [
                {
                    "output_type": "execute_result",
                    "execution_count": 2,
                    "data": {
                        "text/plain": "                                            feedback\n0  Great service great customer service warranty ...\n1  I'm in my late 60's and have always had Michel...\n2  It took quite a few phone calls but once I got...\n3  Agent on the phone call was very professional ...\n4              Michelin lives up to their warrentees",
                        "text/html": "<div>\n<style scoped>\n    .dataframe tbody tr th:only-of-type {\n        vertical-align: middle;\n    }\n\n    .dataframe tbody tr th {\n        vertical-align: top;\n    }\n\n    .dataframe thead th {\n        text-align: right;\n    }\n</style>\n<table border=\"1\" class=\"dataframe\">\n  <thead>\n    <tr style=\"text-align: right;\">\n      <th></th>\n      <th>feedback</th>\n    </tr>\n  </thead>\n  <tbody>\n    <tr>\n      <th>0</th>\n      <td>Great service great customer service warranty ...</td>\n    </tr>\n    <tr>\n      <th>1</th>\n      <td>I'm in my late 60's and have always had Michel...</td>\n    </tr>\n    <tr>\n      <th>2</th>\n      <td>It took quite a few phone calls but once I got...</td>\n    </tr>\n    <tr>\n      <th>3</th>\n      <td>Agent on the phone call was very professional ...</td>\n    </tr>\n    <tr>\n      <th>4</th>\n      <td>Michelin lives up to their warrentees</td>\n    </tr>\n  </tbody>\n</table>\n</div>"
                    },
                    "metadata": {}
                }
            ]
        },
        {
            "metadata": {},
            "cell_type": "code",
            "source": "!pip install ibm_watson",
            "execution_count": 4,
            "outputs": [
                {
                    "output_type": "stream",
                    "text": "Collecting ibm_watson\n\u001b[?25l  Downloading https://files.pythonhosted.org/packages/dc/da/10f8774b319acdda29885931c01fae862622519bff492957c73b0ba84743/ibm-watson-4.5.0.tar.gz (370kB)\n\u001b[K     |\u2588\u2588\u2588\u2588\u2588\u2588\u2588\u2588\u2588\u2588\u2588\u2588\u2588\u2588\u2588\u2588\u2588\u2588\u2588\u2588\u2588\u2588\u2588\u2588\u2588\u2588\u2588\u2588\u2588\u2588\u2588\u2588| 378kB 8.9MB/s eta 0:00:01\n\u001b[?25hRequirement already satisfied: requests<3.0,>=2.0 in /opt/conda/envs/Python36/lib/python3.6/site-packages (from ibm_watson) (2.21.0)\nRequirement already satisfied: python_dateutil>=2.5.3 in /opt/conda/envs/Python36/lib/python3.6/site-packages (from ibm_watson) (2.7.5)\nCollecting websocket-client==0.48.0 (from ibm_watson)\n\u001b[?25l  Downloading https://files.pythonhosted.org/packages/8a/a1/72ef9aa26cfe1a75cee09fc1957e4723add9de098c15719416a1ee89386b/websocket_client-0.48.0-py2.py3-none-any.whl (198kB)\n\u001b[K     |\u2588\u2588\u2588\u2588\u2588\u2588\u2588\u2588\u2588\u2588\u2588\u2588\u2588\u2588\u2588\u2588\u2588\u2588\u2588\u2588\u2588\u2588\u2588\u2588\u2588\u2588\u2588\u2588\u2588\u2588\u2588\u2588| 204kB 31.0MB/s eta 0:00:01\n\u001b[?25hCollecting ibm_cloud_sdk_core==1.5.1 (from ibm_watson)\n  Downloading https://files.pythonhosted.org/packages/b7/f6/10d5271c807d73d236e6ae07b68035fed78b28b5ab836704d34097af3986/ibm-cloud-sdk-core-1.5.1.tar.gz\nRequirement already satisfied: chardet<3.1.0,>=3.0.2 in /opt/conda/envs/Python36/lib/python3.6/site-packages (from requests<3.0,>=2.0->ibm_watson) (3.0.4)\nRequirement already satisfied: urllib3<1.25,>=1.21.1 in /opt/conda/envs/Python36/lib/python3.6/site-packages (from requests<3.0,>=2.0->ibm_watson) (1.24.1)\nRequirement already satisfied: idna<2.9,>=2.5 in /opt/conda/envs/Python36/lib/python3.6/site-packages (from requests<3.0,>=2.0->ibm_watson) (2.8)\nRequirement already satisfied: certifi>=2017.4.17 in /opt/conda/envs/Python36/lib/python3.6/site-packages (from requests<3.0,>=2.0->ibm_watson) (2020.6.20)\nRequirement already satisfied: six>=1.5 in /opt/conda/envs/Python36/lib/python3.6/site-packages (from python_dateutil>=2.5.3->ibm_watson) (1.12.0)\nCollecting PyJWT>=1.7.1 (from ibm_cloud_sdk_core==1.5.1->ibm_watson)\n  Downloading https://files.pythonhosted.org/packages/87/8b/6a9f14b5f781697e51259d81657e6048fd31a113229cf346880bb7545565/PyJWT-1.7.1-py2.py3-none-any.whl\nBuilding wheels for collected packages: ibm-watson, ibm-cloud-sdk-core\n  Building wheel for ibm-watson (setup.py) ... \u001b[?25ldone\n\u001b[?25h  Stored in directory: /home/dsxuser/.cache/pip/wheels/71/9a/0a/9b3ca8eca69bc5362eb04709a750b30055a9d27818fd0c9494\n  Building wheel for ibm-cloud-sdk-core (setup.py) ... \u001b[?25ldone\n\u001b[?25h  Stored in directory: /home/dsxuser/.cache/pip/wheels/6a/42/50/f96888116b329578304f9dda4693cef6f3e76e18272d22cb6c\nSuccessfully built ibm-watson ibm-cloud-sdk-core\nInstalling collected packages: websocket-client, PyJWT, ibm-cloud-sdk-core, ibm-watson\nSuccessfully installed PyJWT-1.7.1 ibm-cloud-sdk-core-1.5.1 ibm-watson-4.5.0 websocket-client-0.48.0\n",
                    "name": "stdout"
                }
            ]
        },
        {
            "metadata": {},
            "cell_type": "code",
            "source": "import pandas as pd\nfrom ibm_watson import NaturalLanguageUnderstandingV1\nfrom ibm_watson.natural_language_understanding_v1 import Features, EntitiesOptions, KeywordsOptions,SentimentOptions\nfrom ibm_cloud_sdk_core.authenticators import IAMAuthenticator\nauthenticator = IAMAuthenticator('bwCwitpwww1TqWSPx60rM-FI87BopdOApVloAO8VGR36')\n\n# Authentication via external config like VCAP_SERVICES\nservice = NaturalLanguageUnderstandingV1(\n    version='2018-03-16', authenticator=authenticator)\n# service.set_disable_ssl_verification(True)\nservice.set_service_url('https://gateway.watsonplatform.net/natural-language-understanding/api')",
            "execution_count": 9,
            "outputs": []
        },
        {
            "metadata": {},
            "cell_type": "code",
            "source": "df1 = df_data_1.head(10)\ndf1",
            "execution_count": 10,
            "outputs": [
                {
                    "output_type": "execute_result",
                    "execution_count": 10,
                    "data": {
                        "text/plain": "                                            feedback\n0  Great service great customer service warranty ...\n1  I'm in my late 60's and have always had Michel...\n2  It took quite a few phone calls but once I got...\n3  Agent on the phone call was very professional ...\n4              Michelin lives up to their warrentees\n5  I have been very happy with your response so q...\n6  My tires came with the new car I purchased fro...\n7  I bought a Toyota Rav4 that had Michelin tires...\n8  I thought when I bought a new vehicle that the...\n9  I like a company that stands behind its produc...",
                        "text/html": "<div>\n<style scoped>\n    .dataframe tbody tr th:only-of-type {\n        vertical-align: middle;\n    }\n\n    .dataframe tbody tr th {\n        vertical-align: top;\n    }\n\n    .dataframe thead th {\n        text-align: right;\n    }\n</style>\n<table border=\"1\" class=\"dataframe\">\n  <thead>\n    <tr style=\"text-align: right;\">\n      <th></th>\n      <th>feedback</th>\n    </tr>\n  </thead>\n  <tbody>\n    <tr>\n      <th>0</th>\n      <td>Great service great customer service warranty ...</td>\n    </tr>\n    <tr>\n      <th>1</th>\n      <td>I'm in my late 60's and have always had Michel...</td>\n    </tr>\n    <tr>\n      <th>2</th>\n      <td>It took quite a few phone calls but once I got...</td>\n    </tr>\n    <tr>\n      <th>3</th>\n      <td>Agent on the phone call was very professional ...</td>\n    </tr>\n    <tr>\n      <th>4</th>\n      <td>Michelin lives up to their warrentees</td>\n    </tr>\n    <tr>\n      <th>5</th>\n      <td>I have been very happy with your response so q...</td>\n    </tr>\n    <tr>\n      <th>6</th>\n      <td>My tires came with the new car I purchased fro...</td>\n    </tr>\n    <tr>\n      <th>7</th>\n      <td>I bought a Toyota Rav4 that had Michelin tires...</td>\n    </tr>\n    <tr>\n      <th>8</th>\n      <td>I thought when I bought a new vehicle that the...</td>\n    </tr>\n    <tr>\n      <th>9</th>\n      <td>I like a company that stands behind its produc...</td>\n    </tr>\n  </tbody>\n</table>\n</div>"
                    },
                    "metadata": {}
                }
            ]
        },
        {
            "metadata": {},
            "cell_type": "code",
            "source": "def sentiment_and_keyword(st,service=service):\n    return (service.analyze(text=st,features=Features(keywords=KeywordsOptions(sentiment= True,emotion= True,limit= 3),sentiment=SentimentOptions())).get_result())",
            "execution_count": 11,
            "outputs": []
        },
        {
            "metadata": {},
            "cell_type": "code",
            "source": "df1['sentiment_keyword_json'] = df1.apply(lambda row : sentiment_and_keyword(str(row['feedback'])),axis = 1)",
            "execution_count": 12,
            "outputs": [
                {
                    "output_type": "stream",
                    "text": "/opt/conda/envs/Python36/lib/python3.6/site-packages/ipykernel/__main__.py:1: SettingWithCopyWarning: \nA value is trying to be set on a copy of a slice from a DataFrame.\nTry using .loc[row_indexer,col_indexer] = value instead\n\nSee the caveats in the documentation: http://pandas.pydata.org/pandas-docs/stable/indexing.html#indexing-view-versus-copy\n  if __name__ == '__main__':\n",
                    "name": "stderr"
                }
            ]
        },
        {
            "metadata": {},
            "cell_type": "code",
            "source": "df2 = df1[['feedback','sentiment_keyword_json']]",
            "execution_count": 13,
            "outputs": []
        },
        {
            "metadata": {},
            "cell_type": "code",
            "source": "def sentiment_extractor(row_num):\n    sentiment_scores=df2['sentiment_keyword_json'][row_num]['sentiment']['document']\n    return sentiment_scores\n\ndef keyword_extractor(row_num):\n    keyword_scores=[{df2['sentiment_keyword_json'][row_num]['keywords'][i]['text'] : df2['sentiment_keyword_json'][row_num]['keywords'][i]['sentiment']['score']} for i in range(0,len(df2['sentiment_keyword_json'][row_num]['keywords']))]\n    return keyword_scores\n\ndf2['sentiment_score'] = df2.apply(lambda row : sentiment_extractor(row.name),axis = 1)\ndf2['keyword_score'] = df2.apply(lambda row : keyword_extractor(row.name),axis = 1)\ndf2",
            "execution_count": 14,
            "outputs": [
                {
                    "output_type": "execute_result",
                    "execution_count": 14,
                    "data": {
                        "text/plain": "                                            feedback  \\\n0  Great service great customer service warranty ...   \n1  I'm in my late 60's and have always had Michel...   \n2  It took quite a few phone calls but once I got...   \n3  Agent on the phone call was very professional ...   \n4              Michelin lives up to their warrentees   \n5  I have been very happy with your response so q...   \n6  My tires came with the new car I purchased fro...   \n7  I bought a Toyota Rav4 that had Michelin tires...   \n8  I thought when I bought a new vehicle that the...   \n9  I like a company that stands behind its produc...   \n\n                              sentiment_keyword_json  \\\n0  {'usage': {'text_units': 1, 'text_characters':...   \n1  {'usage': {'text_units': 1, 'text_characters':...   \n2  {'usage': {'text_units': 1, 'text_characters':...   \n3  {'usage': {'text_units': 1, 'text_characters':...   \n4  {'usage': {'text_units': 1, 'text_characters':...   \n5  {'usage': {'text_units': 1, 'text_characters':...   \n6  {'usage': {'text_units': 1, 'text_characters':...   \n7  {'usage': {'text_units': 1, 'text_characters':...   \n8  {'usage': {'text_units': 1, 'text_characters':...   \n9  {'usage': {'text_units': 1, 'text_characters':...   \n\n                             sentiment_score  \\\n0   {'score': 0.999466, 'label': 'positive'}   \n1   {'score': 0.580746, 'label': 'positive'}   \n2  {'score': -0.862452, 'label': 'negative'}   \n3   {'score': 0.972038, 'label': 'positive'}   \n4           {'score': 0, 'label': 'neutral'}   \n5   {'score': 0.963326, 'label': 'positive'}   \n6  {'score': -0.332891, 'label': 'negative'}   \n7   {'score': -0.77172, 'label': 'negative'}   \n8  {'score': -0.932289, 'label': 'negative'}   \n9   {'score': 0.595588, 'label': 'positive'}   \n\n                                       keyword_score  \n0  [{'Great service': 0.999466}, {'great customer...  \n1  [{'Michelin tires': -0.384194}, {'family membe...  \n2  [{'phone calls': -0.866019}, {'complaint numbe...  \n3    [{'phone call': 0.972038}, {'Agent': 0.972038}]  \n4               [{'Michelin': 0}, {'warrentees': 0}]  \n5  [{'Michelin tires': 0.959063}, {'fact': 0.9560...  \n6  [{'next service': -0.861172}, {'prior Michelin...  \n7  [{'Toyota Rav4': 0}, {'Michelin tires': 0}, {'...  \n8  [{'new vehicle': -0.914493}, {'tires': -0.9144...  \n9  [{'customer service': -0.554345}, {'mileage': ...  ",
                        "text/html": "<div>\n<style scoped>\n    .dataframe tbody tr th:only-of-type {\n        vertical-align: middle;\n    }\n\n    .dataframe tbody tr th {\n        vertical-align: top;\n    }\n\n    .dataframe thead th {\n        text-align: right;\n    }\n</style>\n<table border=\"1\" class=\"dataframe\">\n  <thead>\n    <tr style=\"text-align: right;\">\n      <th></th>\n      <th>feedback</th>\n      <th>sentiment_keyword_json</th>\n      <th>sentiment_score</th>\n      <th>keyword_score</th>\n    </tr>\n  </thead>\n  <tbody>\n    <tr>\n      <th>0</th>\n      <td>Great service great customer service warranty ...</td>\n      <td>{'usage': {'text_units': 1, 'text_characters':...</td>\n      <td>{'score': 0.999466, 'label': 'positive'}</td>\n      <td>[{'Great service': 0.999466}, {'great customer...</td>\n    </tr>\n    <tr>\n      <th>1</th>\n      <td>I'm in my late 60's and have always had Michel...</td>\n      <td>{'usage': {'text_units': 1, 'text_characters':...</td>\n      <td>{'score': 0.580746, 'label': 'positive'}</td>\n      <td>[{'Michelin tires': -0.384194}, {'family membe...</td>\n    </tr>\n    <tr>\n      <th>2</th>\n      <td>It took quite a few phone calls but once I got...</td>\n      <td>{'usage': {'text_units': 1, 'text_characters':...</td>\n      <td>{'score': -0.862452, 'label': 'negative'}</td>\n      <td>[{'phone calls': -0.866019}, {'complaint numbe...</td>\n    </tr>\n    <tr>\n      <th>3</th>\n      <td>Agent on the phone call was very professional ...</td>\n      <td>{'usage': {'text_units': 1, 'text_characters':...</td>\n      <td>{'score': 0.972038, 'label': 'positive'}</td>\n      <td>[{'phone call': 0.972038}, {'Agent': 0.972038}]</td>\n    </tr>\n    <tr>\n      <th>4</th>\n      <td>Michelin lives up to their warrentees</td>\n      <td>{'usage': {'text_units': 1, 'text_characters':...</td>\n      <td>{'score': 0, 'label': 'neutral'}</td>\n      <td>[{'Michelin': 0}, {'warrentees': 0}]</td>\n    </tr>\n    <tr>\n      <th>5</th>\n      <td>I have been very happy with your response so q...</td>\n      <td>{'usage': {'text_units': 1, 'text_characters':...</td>\n      <td>{'score': 0.963326, 'label': 'positive'}</td>\n      <td>[{'Michelin tires': 0.959063}, {'fact': 0.9560...</td>\n    </tr>\n    <tr>\n      <th>6</th>\n      <td>My tires came with the new car I purchased fro...</td>\n      <td>{'usage': {'text_units': 1, 'text_characters':...</td>\n      <td>{'score': -0.332891, 'label': 'negative'}</td>\n      <td>[{'next service': -0.861172}, {'prior Michelin...</td>\n    </tr>\n    <tr>\n      <th>7</th>\n      <td>I bought a Toyota Rav4 that had Michelin tires...</td>\n      <td>{'usage': {'text_units': 1, 'text_characters':...</td>\n      <td>{'score': -0.77172, 'label': 'negative'}</td>\n      <td>[{'Toyota Rav4': 0}, {'Michelin tires': 0}, {'...</td>\n    </tr>\n    <tr>\n      <th>8</th>\n      <td>I thought when I bought a new vehicle that the...</td>\n      <td>{'usage': {'text_units': 1, 'text_characters':...</td>\n      <td>{'score': -0.932289, 'label': 'negative'}</td>\n      <td>[{'new vehicle': -0.914493}, {'tires': -0.9144...</td>\n    </tr>\n    <tr>\n      <th>9</th>\n      <td>I like a company that stands behind its produc...</td>\n      <td>{'usage': {'text_units': 1, 'text_characters':...</td>\n      <td>{'score': 0.595588, 'label': 'positive'}</td>\n      <td>[{'customer service': -0.554345}, {'mileage': ...</td>\n    </tr>\n  </tbody>\n</table>\n</div>"
                    },
                    "metadata": {}
                }
            ]
        },
        {
            "metadata": {},
            "cell_type": "code",
            "source": "",
            "execution_count": null,
            "outputs": []
        }
    ],
    "metadata": {
        "kernelspec": {
            "name": "python3",
            "display_name": "Python 3.6",
            "language": "python"
        },
        "language_info": {
            "name": "python",
            "version": "3.6.9",
            "mimetype": "text/x-python",
            "codemirror_mode": {
                "name": "ipython",
                "version": 3
            },
            "pygments_lexer": "ipython3",
            "nbconvert_exporter": "python",
            "file_extension": ".py"
        }
    },
    "nbformat": 4,
    "nbformat_minor": 1
}